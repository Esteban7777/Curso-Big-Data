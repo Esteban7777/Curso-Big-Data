{
  "nbformat": 4,
  "nbformat_minor": 0,
  "metadata": {
    "colab": {
      "provenance": [],
      "authorship_tag": "ABX9TyMqKno2Q3KLs93wU3dEJgC6",
      "include_colab_link": true
    },
    "kernelspec": {
      "name": "ir",
      "display_name": "R"
    },
    "language_info": {
      "name": "R"
    }
  },
  "cells": [
    {
      "cell_type": "markdown",
      "metadata": {
        "id": "view-in-github",
        "colab_type": "text"
      },
      "source": [
        "<a href=\"https://colab.research.google.com/github/Esteban7777/Curso-Big-Data/blob/main/Redes_neuronales.ipynb\" target=\"_parent\"><img src=\"https://colab.research.google.com/assets/colab-badge.svg\" alt=\"Open In Colab\"/></a>"
      ]
    },
    {
      "cell_type": "markdown",
      "source": [
        "**Predicción con red neuronal**"
      ],
      "metadata": {
        "id": "JXDEk9D_j-4l"
      }
    },
    {
      "cell_type": "markdown",
      "source": [
        "Cargamos los paquetes"
      ],
      "metadata": {
        "id": "UYg92O6AUWXK"
      }
    },
    {
      "cell_type": "code",
      "source": [
        "install.packages(\"pacman\")\n",
        "require(\"pacman\")\n",
        "\n",
        "p_load(\"tidyverse\",\"keras\",\"modeldata\")\n"
      ],
      "metadata": {
        "colab": {
          "base_uri": "https://localhost:8080/"
        },
        "id": "62XFJGgTj96U",
        "outputId": "71b7268a-be12-436e-f3ce-81fa5740fe2e"
      },
      "execution_count": null,
      "outputs": [
        {
          "output_type": "stream",
          "name": "stderr",
          "text": [
            "Installing package into ‘/usr/local/lib/R/site-library’\n",
            "(as ‘lib’ is unspecified)\n",
            "\n",
            "Loading required package: pacman\n",
            "\n",
            "Installing package into ‘/usr/local/lib/R/site-library’\n",
            "(as ‘lib’ is unspecified)\n",
            "\n",
            "also installing the dependencies ‘Rcpp’, ‘RcppTOML’, ‘here’, ‘png’, ‘config’, ‘tfautograph’, ‘reticulate’, ‘tensorflow’, ‘tfruns’, ‘zeallot’\n",
            "\n",
            "\n",
            "\n",
            "keras installed\n",
            "\n",
            "Installing package into ‘/usr/local/lib/R/site-library’\n",
            "(as ‘lib’ is unspecified)\n",
            "\n",
            "\n",
            "modeldata installed\n",
            "\n"
          ]
        }
      ]
    },
    {
      "cell_type": "markdown",
      "source": [
        "Cargamos la data y hacemos las transformaciones correspondientes"
      ],
      "metadata": {
        "id": "YkPlGIp0UZ0h"
      }
    },
    {
      "cell_type": "code",
      "source": [
        "train<-read.csv(\"https://raw.githubusercontent.com/Esteban7777/Curso-Big-Data/main/Taller%203/0.Insumos/Taller_3/train_join2.csv\")\n",
        "test<-read.csv(\"https://raw.githubusercontent.com/Esteban7777/Curso-Big-Data/main/Taller%203/0.Insumos/Taller_3/test_join2.csv\")\n",
        "\n",
        "train <- train %>% mutate(estrato = as.numeric(substr(estrato_predominante, 8, nchar(estrato_predominante))))\n",
        "test <- test %>% mutate(estrato = as.numeric(substr(estrato_predominante, 8, nchar(estrato_predominante))))\n",
        "\n",
        "\n",
        "\n",
        "inflacion<-read.csv2(\"https://raw.githubusercontent.com/Esteban7777/Curso-Big-Data/main/Taller%203/0.Insumos/Inflacion.csv\")\n",
        "inflacion<-inflacion %>% rename(fecha=Mes)\n",
        "test<-test %>% mutate(fecha= ifelse(month<10,paste0(\"01/0\",month,\"/\",year),paste0(\"01/\",month,\"/\",year)))\n",
        "\n",
        "test<-test %>% left_join(inflacion,by=\"fecha\")\n",
        "\n",
        "names(test)[duplicated(names(test))] <- paste0(names(test)[duplicated(names(test))], \"_duplicate\")\n",
        "\n",
        "\n",
        "distancia_hospital_test<-read.csv2(\"https://raw.githubusercontent.com/Esteban7777/Curso-Big-Data/main/Taller%203/0.Insumos/Taller_3/Distancia_hospital_test.csv\")\n",
        "distancia_hospital_train<-read.csv2(\"https://raw.githubusercontent.com/Esteban7777/Curso-Big-Data/main/Taller%203/0.Insumos/Taller_3/Distancia_hospital_train.csv\")\n",
        "seguridad_train<-read.csv(\"https://raw.githubusercontent.com/Esteban7777/Curso-Big-Data/main/Taller%203/0.Insumos/Taller_3/seguridad.csv\")\n",
        "seguridad_test<-read.csv(\"https://raw.githubusercontent.com/Esteban7777/Curso-Big-Data/main/Taller%203/0.Insumos/Taller_3/seguridad_test.csv\")\n",
        "names(seguridad_test) <- c(\"Robos_vivienda\", \"Robos_personas\", \"distancia_estacion_policia\",\"geometry\",\"geometry2\")\n",
        "train<-cbind(train,distancia_hospital_train,seguridad_train)\n",
        "test<-cbind(test,distancia_hospital_test,seguridad_test)\n",
        "train<-train %>% rename(distancia_hospital=X.distancia_hospital)\n",
        "names(test)[duplicated(names(test))] <- paste0(names(test)[duplicated(names(test))], \"_duplicate\")\n",
        "test<-test %>% rename(distancia_hospital=X.distancia_hospital_t)\n",
        "head(train)"
      ],
      "metadata": {
        "id": "OcLd2pX_kKRL",
        "colab": {
          "base_uri": "https://localhost:8080/",
          "height": 410
        },
        "collapsed": true,
        "outputId": "349dac01-be13-45fe-84d5-061bcdecfb62"
      },
      "execution_count": null,
      "outputs": [
        {
          "output_type": "display_data",
          "data": {
            "text/html": [
              "<table class=\"dataframe\">\n",
              "<caption>A data.frame: 6 × 46</caption>\n",
              "<thead>\n",
              "\t<tr><th></th><th scope=col>property_id</th><th scope=col>city</th><th scope=col>price</th><th scope=col>month</th><th scope=col>year</th><th scope=col>surface_total</th><th scope=col>surface_covered</th><th scope=col>rooms</th><th scope=col>bedrooms</th><th scope=col>bathrooms</th><th scope=col>⋯</th><th scope=col>precio_actual</th><th scope=col>validacion</th><th scope=col>Lon</th><th scope=col>Lat</th><th scope=col>estrato</th><th scope=col>distancia_hospital</th><th scope=col>X</th><th scope=col>Robos_vivienda</th><th scope=col>Robos_personas</th><th scope=col>distancia_estacion_policia</th></tr>\n",
              "\t<tr><th></th><th scope=col>&lt;chr&gt;</th><th scope=col>&lt;chr&gt;</th><th scope=col>&lt;dbl&gt;</th><th scope=col>&lt;int&gt;</th><th scope=col>&lt;int&gt;</th><th scope=col>&lt;int&gt;</th><th scope=col>&lt;int&gt;</th><th scope=col>&lt;int&gt;</th><th scope=col>&lt;int&gt;</th><th scope=col>&lt;int&gt;</th><th scope=col>⋯</th><th scope=col>&lt;dbl&gt;</th><th scope=col>&lt;dbl&gt;</th><th scope=col>&lt;dbl&gt;</th><th scope=col>&lt;dbl&gt;</th><th scope=col>&lt;dbl&gt;</th><th scope=col>&lt;chr&gt;</th><th scope=col>&lt;int&gt;</th><th scope=col>&lt;int&gt;</th><th scope=col>&lt;int&gt;</th><th scope=col>&lt;dbl&gt;</th></tr>\n",
              "</thead>\n",
              "<tbody>\n",
              "\t<tr><th scope=row>1</th><td>957a84e8e93ae2b33bc6f61b</td><td>BogotÃ¡ D.C</td><td>4.0e+08</td><td>10</td><td>2020</td><td> NA</td><td> NA</td><td> 8</td><td>8</td><td>NA</td><td>⋯</td><td>4.0e+08</td><td>0.000000e+00</td><td>-74.13866</td><td>4.586620</td><td>2</td><td>1,792.830969188126</td><td>1</td><td> 42</td><td> 524</td><td>372.8295</td></tr>\n",
              "\t<tr><th scope=row>2</th><td>eb32d75b32bc5e8677207fc7</td><td>BogotÃ¡ D.C</td><td>8.0e+08</td><td>10</td><td>2020</td><td> NA</td><td> NA</td><td> 6</td><td>6</td><td>NA</td><td>⋯</td><td>8.0e+08</td><td>0.000000e+00</td><td>-74.14215</td><td>4.678147</td><td>3</td><td>2,410.165007331515</td><td>2</td><td>105</td><td>1440</td><td>780.8655</td></tr>\n",
              "\t<tr><th scope=row>3</th><td>880a6e7bd74dc2568940d275</td><td>BogotÃ¡ D.C</td><td>4.8e+08</td><td>10</td><td>2020</td><td> NA</td><td> NA</td><td>NA</td><td>3</td><td> 3</td><td>⋯</td><td>4.8e+08</td><td>0.000000e+00</td><td>-74.05155</td><td>4.756503</td><td>4</td><td>3,2174.36825461896</td><td>3</td><td>233</td><td>2337</td><td>612.6287</td></tr>\n",
              "\t<tr><th scope=row>4</th><td>847cf8c0907ac512c8a0fc74</td><td>BogotÃ¡ D.C</td><td>8.0e+08</td><td>10</td><td>2020</td><td>175</td><td>253</td><td> 5</td><td>5</td><td> 3</td><td>⋯</td><td>8.0e+08</td><td>0.000000e+00</td><td>-74.05700</td><td>4.703000</td><td>5</td><td>4,334.457393583861</td><td>4</td><td>233</td><td>2337</td><td>846.1830</td></tr>\n",
              "\t<tr><th scope=row>5</th><td>a5a8d725bc0813847bab03f1</td><td>BogotÃ¡ D.C</td><td>9.5e+08</td><td>10</td><td>2020</td><td> NA</td><td> NA</td><td>NA</td><td>3</td><td> 4</td><td>⋯</td><td>9.5e+08</td><td>1.192093e-07</td><td>-74.12586</td><td>4.661882</td><td>4</td><td>5,2140.91271167149</td><td>5</td><td>105</td><td>1440</td><td>148.8482</td></tr>\n",
              "\t<tr><th scope=row>6</th><td>61e681bc3574d96b1b8f36a1</td><td>BogotÃ¡ D.C</td><td>7.2e+08</td><td>10</td><td>2020</td><td> NA</td><td> NA</td><td>NA</td><td>6</td><td> 5</td><td>⋯</td><td>7.2e+08</td><td>0.000000e+00</td><td>-74.11115</td><td>4.599996</td><td>3</td><td>6,966.790673121617</td><td>6</td><td>101</td><td>1202</td><td>164.4813</td></tr>\n",
              "</tbody>\n",
              "</table>\n"
            ],
            "text/markdown": "\nA data.frame: 6 × 46\n\n| <!--/--> | property_id &lt;chr&gt; | city &lt;chr&gt; | price &lt;dbl&gt; | month &lt;int&gt; | year &lt;int&gt; | surface_total &lt;int&gt; | surface_covered &lt;int&gt; | rooms &lt;int&gt; | bedrooms &lt;int&gt; | bathrooms &lt;int&gt; | ⋯ ⋯ | precio_actual &lt;dbl&gt; | validacion &lt;dbl&gt; | Lon &lt;dbl&gt; | Lat &lt;dbl&gt; | estrato &lt;dbl&gt; | distancia_hospital &lt;chr&gt; | X &lt;int&gt; | Robos_vivienda &lt;int&gt; | Robos_personas &lt;int&gt; | distancia_estacion_policia &lt;dbl&gt; |\n|---|---|---|---|---|---|---|---|---|---|---|---|---|---|---|---|---|---|---|---|---|---|\n| 1 | 957a84e8e93ae2b33bc6f61b | BogotÃ¡ D.C | 4.0e+08 | 10 | 2020 |  NA |  NA |  8 | 8 | NA | ⋯ | 4.0e+08 | 0.000000e+00 | -74.13866 | 4.586620 | 2 | 1,792.830969188126 | 1 |  42 |  524 | 372.8295 |\n| 2 | eb32d75b32bc5e8677207fc7 | BogotÃ¡ D.C | 8.0e+08 | 10 | 2020 |  NA |  NA |  6 | 6 | NA | ⋯ | 8.0e+08 | 0.000000e+00 | -74.14215 | 4.678147 | 3 | 2,410.165007331515 | 2 | 105 | 1440 | 780.8655 |\n| 3 | 880a6e7bd74dc2568940d275 | BogotÃ¡ D.C | 4.8e+08 | 10 | 2020 |  NA |  NA | NA | 3 |  3 | ⋯ | 4.8e+08 | 0.000000e+00 | -74.05155 | 4.756503 | 4 | 3,2174.36825461896 | 3 | 233 | 2337 | 612.6287 |\n| 4 | 847cf8c0907ac512c8a0fc74 | BogotÃ¡ D.C | 8.0e+08 | 10 | 2020 | 175 | 253 |  5 | 5 |  3 | ⋯ | 8.0e+08 | 0.000000e+00 | -74.05700 | 4.703000 | 5 | 4,334.457393583861 | 4 | 233 | 2337 | 846.1830 |\n| 5 | a5a8d725bc0813847bab03f1 | BogotÃ¡ D.C | 9.5e+08 | 10 | 2020 |  NA |  NA | NA | 3 |  4 | ⋯ | 9.5e+08 | 1.192093e-07 | -74.12586 | 4.661882 | 4 | 5,2140.91271167149 | 5 | 105 | 1440 | 148.8482 |\n| 6 | 61e681bc3574d96b1b8f36a1 | BogotÃ¡ D.C | 7.2e+08 | 10 | 2020 |  NA |  NA | NA | 6 |  5 | ⋯ | 7.2e+08 | 0.000000e+00 | -74.11115 | 4.599996 | 3 | 6,966.790673121617 | 6 | 101 | 1202 | 164.4813 |\n\n",
            "text/latex": "A data.frame: 6 × 46\n\\begin{tabular}{r|lllllllllllllllllllll}\n  & property\\_id & city & price & month & year & surface\\_total & surface\\_covered & rooms & bedrooms & bathrooms & ⋯ & precio\\_actual & validacion & Lon & Lat & estrato & distancia\\_hospital & X & Robos\\_vivienda & Robos\\_personas & distancia\\_estacion\\_policia\\\\\n  & <chr> & <chr> & <dbl> & <int> & <int> & <int> & <int> & <int> & <int> & <int> & ⋯ & <dbl> & <dbl> & <dbl> & <dbl> & <dbl> & <chr> & <int> & <int> & <int> & <dbl>\\\\\n\\hline\n\t1 & 957a84e8e93ae2b33bc6f61b & BogotÃ¡ D.C & 4.0e+08 & 10 & 2020 &  NA &  NA &  8 & 8 & NA & ⋯ & 4.0e+08 & 0.000000e+00 & -74.13866 & 4.586620 & 2 & 1,792.830969188126 & 1 &  42 &  524 & 372.8295\\\\\n\t2 & eb32d75b32bc5e8677207fc7 & BogotÃ¡ D.C & 8.0e+08 & 10 & 2020 &  NA &  NA &  6 & 6 & NA & ⋯ & 8.0e+08 & 0.000000e+00 & -74.14215 & 4.678147 & 3 & 2,410.165007331515 & 2 & 105 & 1440 & 780.8655\\\\\n\t3 & 880a6e7bd74dc2568940d275 & BogotÃ¡ D.C & 4.8e+08 & 10 & 2020 &  NA &  NA & NA & 3 &  3 & ⋯ & 4.8e+08 & 0.000000e+00 & -74.05155 & 4.756503 & 4 & 3,2174.36825461896 & 3 & 233 & 2337 & 612.6287\\\\\n\t4 & 847cf8c0907ac512c8a0fc74 & BogotÃ¡ D.C & 8.0e+08 & 10 & 2020 & 175 & 253 &  5 & 5 &  3 & ⋯ & 8.0e+08 & 0.000000e+00 & -74.05700 & 4.703000 & 5 & 4,334.457393583861 & 4 & 233 & 2337 & 846.1830\\\\\n\t5 & a5a8d725bc0813847bab03f1 & BogotÃ¡ D.C & 9.5e+08 & 10 & 2020 &  NA &  NA & NA & 3 &  4 & ⋯ & 9.5e+08 & 1.192093e-07 & -74.12586 & 4.661882 & 4 & 5,2140.91271167149 & 5 & 105 & 1440 & 148.8482\\\\\n\t6 & 61e681bc3574d96b1b8f36a1 & BogotÃ¡ D.C & 7.2e+08 & 10 & 2020 &  NA &  NA & NA & 6 &  5 & ⋯ & 7.2e+08 & 0.000000e+00 & -74.11115 & 4.599996 & 3 & 6,966.790673121617 & 6 & 101 & 1202 & 164.4813\\\\\n\\end{tabular}\n",
            "text/plain": [
              "  property_id              city        price   month year surface_total\n",
              "1 957a84e8e93ae2b33bc6f61b BogotÃ¡ D.C 4.0e+08 10    2020  NA          \n",
              "2 eb32d75b32bc5e8677207fc7 BogotÃ¡ D.C 8.0e+08 10    2020  NA          \n",
              "3 880a6e7bd74dc2568940d275 BogotÃ¡ D.C 4.8e+08 10    2020  NA          \n",
              "4 847cf8c0907ac512c8a0fc74 BogotÃ¡ D.C 8.0e+08 10    2020 175          \n",
              "5 a5a8d725bc0813847bab03f1 BogotÃ¡ D.C 9.5e+08 10    2020  NA          \n",
              "6 61e681bc3574d96b1b8f36a1 BogotÃ¡ D.C 7.2e+08 10    2020  NA          \n",
              "  surface_covered rooms bedrooms bathrooms ⋯ precio_actual validacion  \n",
              "1  NA              8    8        NA        ⋯ 4.0e+08       0.000000e+00\n",
              "2  NA              6    6        NA        ⋯ 8.0e+08       0.000000e+00\n",
              "3  NA             NA    3         3        ⋯ 4.8e+08       0.000000e+00\n",
              "4 253              5    5         3        ⋯ 8.0e+08       0.000000e+00\n",
              "5  NA             NA    3         4        ⋯ 9.5e+08       1.192093e-07\n",
              "6  NA             NA    6         5        ⋯ 7.2e+08       0.000000e+00\n",
              "  Lon       Lat      estrato distancia_hospital X Robos_vivienda Robos_personas\n",
              "1 -74.13866 4.586620 2       1,792.830969188126 1  42             524          \n",
              "2 -74.14215 4.678147 3       2,410.165007331515 2 105            1440          \n",
              "3 -74.05155 4.756503 4       3,2174.36825461896 3 233            2337          \n",
              "4 -74.05700 4.703000 5       4,334.457393583861 4 233            2337          \n",
              "5 -74.12586 4.661882 4       5,2140.91271167149 5 105            1440          \n",
              "6 -74.11115 4.599996 3       6,966.790673121617 6 101            1202          \n",
              "  distancia_estacion_policia\n",
              "1 372.8295                  \n",
              "2 780.8655                  \n",
              "3 612.6287                  \n",
              "4 846.1830                  \n",
              "5 148.8482                  \n",
              "6 164.4813                  "
            ]
          },
          "metadata": {}
        }
      ]
    },
    {
      "cell_type": "markdown",
      "source": [
        "Definimos las variables utilizadas para entrenar el modelo"
      ],
      "metadata": {
        "id": "97ZoB_yzUs3d"
      }
    },
    {
      "cell_type": "code",
      "source": [],
      "metadata": {
        "colab": {
          "base_uri": "https://localhost:8080/"
        },
        "id": "NCRPNvAaWfRt",
        "outputId": "302d6fda-8319-4bad-d226-8459b237ed9c"
      },
      "execution_count": null,
      "outputs": [
        {
          "output_type": "stream",
          "name": "stdout",
          "text": [
            " num [1:38644] 1.79e+14 2.41e+14 3.22e+13 4.33e+14 5.21e+14 ...\n"
          ]
        }
      ]
    },
    {
      "cell_type": "code",
      "source": [
        "predictores_net_1<- c(\"nbanios\",\"nhabitaciones\",\"piso_apartamento\",\n",
        "                             \"estrato\",\"Periodo\",\"Robos_vivienda\",\"Robos_personas\",\n",
        "                             \"distancia_estacion_policia\",\"distancia_hospital\")\n",
        "train<-train %>% mutate(\n",
        "  nbanios=as.numeric(nbanios),\n",
        "  nhabitaciones=as.numeric(nhabitaciones),\n",
        "  piso_apartamento=as.numeric(piso_apartamento),\n",
        "  estrato=as.numeric(estrato),\n",
        "  Periodo=as.numeric(Periodo),\n",
        "  Robos_vivienda=as.numeric(Robos_vivienda),\n",
        "  Robos_personas=as.numeric(Robos_personas),\n",
        "  distancia_estacion_policia=as.numeric(distancia_estacion_policia)\n",
        "  )\n",
        "\n",
        "train <- train %>%\n",
        "  mutate(distancia_hospital = str_replace_all(distancia_hospital, \"\\\\.\", \"\"),\n",
        "         distancia_hospital = str_replace_all(distancia_hospital, \",\", \".\"),\n",
        "         distancia_hospital = as.numeric(distancia_hospital))\n",
        "str(train$distancia_hospital)\n",
        "\n",
        "y_train<-log(train$price)\n",
        "x_train<- as.matrix(train  %>% select(predictores_net_1))\n",
        "x_train<- scale(x_train)\n",
        "head(x_train)"
      ],
      "metadata": {
        "colab": {
          "base_uri": "https://localhost:8080/",
          "height": 292
        },
        "id": "hxVy9XWTRFf1",
        "outputId": "590dbde6-cdff-4de5-cef1-22a164b65c9f"
      },
      "execution_count": null,
      "outputs": [
        {
          "output_type": "stream",
          "name": "stdout",
          "text": [
            " num [1:38644] 1.79e+14 2.41e+14 3.22e+13 4.33e+14 5.21e+14 ...\n"
          ]
        },
        {
          "output_type": "display_data",
          "data": {
            "text/html": [
              "<table class=\"dataframe\">\n",
              "<caption>A matrix: 6 × 9 of type dbl</caption>\n",
              "<thead>\n",
              "\t<tr><th scope=col>nbanios</th><th scope=col>nhabitaciones</th><th scope=col>piso_apartamento</th><th scope=col>estrato</th><th scope=col>Periodo</th><th scope=col>Robos_vivienda</th><th scope=col>Robos_personas</th><th scope=col>distancia_estacion_policia</th><th scope=col>distancia_hospital</th></tr>\n",
              "</thead>\n",
              "<tbody>\n",
              "\t<tr><td>-0.4463018</td><td> 3.1578039</td><td>-0.6625406</td><td>-2.1686213</td><td>0.09840766</td><td>-1.9568771</td><td>-2.3921557</td><td>-0.9478937</td><td>-0.5426521</td></tr>\n",
              "\t<tr><td>-0.4463018</td><td> 1.8530172</td><td>-0.6625406</td><td>-1.2986785</td><td>0.09840766</td><td>-0.8753621</td><td>-0.4909602</td><td> 0.1594936</td><td>-0.2480788</td></tr>\n",
              "\t<tr><td>-1.3546541</td><td>-0.1041628</td><td>-0.6625406</td><td>-0.4287357</td><td>0.09840766</td><td> 1.3220019</td><td> 1.3708001</td><td>-0.2970919</td><td>-1.2446108</td></tr>\n",
              "\t<tr><td> 0.4620506</td><td> 1.8530172</td><td>-0.6625406</td><td> 0.4412071</td><td>0.09840766</td><td> 1.3220019</td><td> 1.3708001</td><td> 0.3367616</td><td> 0.6701359</td></tr>\n",
              "\t<tr><td> 1.3704029</td><td>-0.1041628</td><td>-0.6625406</td><td>-0.4287357</td><td>0.09840766</td><td>-0.8753621</td><td>-0.4909602</td><td>-1.5557665</td><td> 1.0898708</td></tr>\n",
              "\t<tr><td>-0.4463018</td><td> 1.8530172</td><td>-0.6625406</td><td>-1.2986785</td><td>0.09840766</td><td>-0.9440297</td><td>-0.9849389</td><td>-1.5133393</td><td> 1.9262064</td></tr>\n",
              "</tbody>\n",
              "</table>\n"
            ],
            "text/markdown": "\nA matrix: 6 × 9 of type dbl\n\n| nbanios | nhabitaciones | piso_apartamento | estrato | Periodo | Robos_vivienda | Robos_personas | distancia_estacion_policia | distancia_hospital |\n|---|---|---|---|---|---|---|---|---|\n| -0.4463018 |  3.1578039 | -0.6625406 | -2.1686213 | 0.09840766 | -1.9568771 | -2.3921557 | -0.9478937 | -0.5426521 |\n| -0.4463018 |  1.8530172 | -0.6625406 | -1.2986785 | 0.09840766 | -0.8753621 | -0.4909602 |  0.1594936 | -0.2480788 |\n| -1.3546541 | -0.1041628 | -0.6625406 | -0.4287357 | 0.09840766 |  1.3220019 |  1.3708001 | -0.2970919 | -1.2446108 |\n|  0.4620506 |  1.8530172 | -0.6625406 |  0.4412071 | 0.09840766 |  1.3220019 |  1.3708001 |  0.3367616 |  0.6701359 |\n|  1.3704029 | -0.1041628 | -0.6625406 | -0.4287357 | 0.09840766 | -0.8753621 | -0.4909602 | -1.5557665 |  1.0898708 |\n| -0.4463018 |  1.8530172 | -0.6625406 | -1.2986785 | 0.09840766 | -0.9440297 | -0.9849389 | -1.5133393 |  1.9262064 |\n\n",
            "text/latex": "A matrix: 6 × 9 of type dbl\n\\begin{tabular}{lllllllll}\n nbanios & nhabitaciones & piso\\_apartamento & estrato & Periodo & Robos\\_vivienda & Robos\\_personas & distancia\\_estacion\\_policia & distancia\\_hospital\\\\\n\\hline\n\t -0.4463018 &  3.1578039 & -0.6625406 & -2.1686213 & 0.09840766 & -1.9568771 & -2.3921557 & -0.9478937 & -0.5426521\\\\\n\t -0.4463018 &  1.8530172 & -0.6625406 & -1.2986785 & 0.09840766 & -0.8753621 & -0.4909602 &  0.1594936 & -0.2480788\\\\\n\t -1.3546541 & -0.1041628 & -0.6625406 & -0.4287357 & 0.09840766 &  1.3220019 &  1.3708001 & -0.2970919 & -1.2446108\\\\\n\t  0.4620506 &  1.8530172 & -0.6625406 &  0.4412071 & 0.09840766 &  1.3220019 &  1.3708001 &  0.3367616 &  0.6701359\\\\\n\t  1.3704029 & -0.1041628 & -0.6625406 & -0.4287357 & 0.09840766 & -0.8753621 & -0.4909602 & -1.5557665 &  1.0898708\\\\\n\t -0.4463018 &  1.8530172 & -0.6625406 & -1.2986785 & 0.09840766 & -0.9440297 & -0.9849389 & -1.5133393 &  1.9262064\\\\\n\\end{tabular}\n",
            "text/plain": [
              "     nbanios    nhabitaciones piso_apartamento estrato    Periodo   \n",
              "[1,] -0.4463018  3.1578039    -0.6625406       -2.1686213 0.09840766\n",
              "[2,] -0.4463018  1.8530172    -0.6625406       -1.2986785 0.09840766\n",
              "[3,] -1.3546541 -0.1041628    -0.6625406       -0.4287357 0.09840766\n",
              "[4,]  0.4620506  1.8530172    -0.6625406        0.4412071 0.09840766\n",
              "[5,]  1.3704029 -0.1041628    -0.6625406       -0.4287357 0.09840766\n",
              "[6,] -0.4463018  1.8530172    -0.6625406       -1.2986785 0.09840766\n",
              "     Robos_vivienda Robos_personas distancia_estacion_policia\n",
              "[1,] -1.9568771     -2.3921557     -0.9478937                \n",
              "[2,] -0.8753621     -0.4909602      0.1594936                \n",
              "[3,]  1.3220019      1.3708001     -0.2970919                \n",
              "[4,]  1.3220019      1.3708001      0.3367616                \n",
              "[5,] -0.8753621     -0.4909602     -1.5557665                \n",
              "[6,] -0.9440297     -0.9849389     -1.5133393                \n",
              "     distancia_hospital\n",
              "[1,] -0.5426521        \n",
              "[2,] -0.2480788        \n",
              "[3,] -1.2446108        \n",
              "[4,]  0.6701359        \n",
              "[5,]  1.0898708        \n",
              "[6,]  1.9262064        "
            ]
          },
          "metadata": {}
        }
      ]
    },
    {
      "cell_type": "code",
      "source": [
        "head(y_train)"
      ],
      "metadata": {
        "colab": {
          "base_uri": "https://localhost:8080/",
          "height": 34
        },
        "id": "NsJWpjoYUyJy",
        "outputId": "ae89f414-f593-4bc7-abc5-c120b823eac8"
      },
      "execution_count": null,
      "outputs": [
        {
          "output_type": "display_data",
          "data": {
            "text/html": [
              "<style>\n",
              ".list-inline {list-style: none; margin:0; padding: 0}\n",
              ".list-inline>li {display: inline-block}\n",
              ".list-inline>li:not(:last-child)::after {content: \"\\00b7\"; padding: 0 .5ex}\n",
              "</style>\n",
              "<ol class=list-inline><li>19.8069751050723</li><li>20.5001222856322</li><li>19.9892966618662</li><li>20.5001222856322</li><li>20.6719725425589</li><li>20.3947617699744</li></ol>\n"
            ],
            "text/markdown": "1. 19.8069751050723\n2. 20.5001222856322\n3. 19.9892966618662\n4. 20.5001222856322\n5. 20.6719725425589\n6. 20.3947617699744\n\n\n",
            "text/latex": "\\begin{enumerate*}\n\\item 19.8069751050723\n\\item 20.5001222856322\n\\item 19.9892966618662\n\\item 20.5001222856322\n\\item 20.6719725425589\n\\item 20.3947617699744\n\\end{enumerate*}\n",
            "text/plain": [
              "[1] 19.80698 20.50012 19.98930 20.50012 20.67197 20.39476"
            ]
          },
          "metadata": {}
        }
      ]
    },
    {
      "cell_type": "code",
      "source": [
        "snn <- keras_model_sequential() %>%\n",
        "  layer_dense(units = 25, activation = \"sigmoid\",\n",
        "              input_shape = ncol(x_train)) %>%\n",
        "  layer_dense(units = 1)"
      ],
      "metadata": {
        "id": "0-izvwMwYrXV"
      },
      "execution_count": null,
      "outputs": []
    },
    {
      "cell_type": "markdown",
      "source": [],
      "metadata": {
        "id": "ilxov63uhyDE"
      }
    },
    {
      "cell_type": "code",
      "source": [
        "summary(snn)"
      ],
      "metadata": {
        "colab": {
          "base_uri": "https://localhost:8080/"
        },
        "id": "xOwtY6brY0aC",
        "outputId": "a5dd91f6-fd40-4c53-a74b-fdd9fa522fd5"
      },
      "execution_count": null,
      "outputs": [
        {
          "output_type": "stream",
          "name": "stdout",
          "text": [
            "Model: \"sequential_5\"\n",
            "________________________________________________________________________________\n",
            " Layer (type)                       Output Shape                    Param #     \n",
            "================================================================================\n",
            " dense_11 (Dense)                   (None, 25)                      250         \n",
            " dense_10 (Dense)                   (None, 1)                       26          \n",
            "================================================================================\n",
            "Total params: 276 (1.08 KB)\n",
            "Trainable params: 276 (1.08 KB)\n",
            "Non-trainable params: 0 (0.00 Byte)\n",
            "________________________________________________________________________________\n"
          ]
        }
      ]
    },
    {
      "cell_type": "code",
      "source": [
        "snn %>% compile(loss = \"mse\",\n",
        "                  optimizer = 'adam',\n",
        "                  metrics = list(\"mean_absolute_error\") # mean_absolute_error\n",
        ")\n",
        "\n",
        "\n",
        "set.seed(10101)\n",
        "history <- snn %>% fit(\n",
        "  x_train, y_train,\n",
        "  epochs = 30,\n",
        "  validation_split = 0.3\n",
        ")\n"
      ],
      "metadata": {
        "id": "okBHDc6xaZlV"
      },
      "execution_count": null,
      "outputs": []
    },
    {
      "cell_type": "code",
      "source": [
        "plot(history)"
      ],
      "metadata": {
        "colab": {
          "base_uri": "https://localhost:8080/",
          "height": 437
        },
        "id": "ksNxB6MDbE7S",
        "outputId": "0d06612b-892f-4f7b-d4c3-84d94eba9330"
      },
      "execution_count": null,
      "outputs": [
        {
          "output_type": "display_data",
          "data": {
            "text/plain": [
              "plot without title"
            ],
            "image/png": "[encoded data removed]"
          },
          "metadata": {
            "image/png": {
              "width": 420,
              "height": 420
            }
          }
        }
      ]
    },
    {
      "cell_type": "markdown",
      "source": [
        "Evaluamos dentro de muestra"
      ],
      "metadata": {
        "id": "q7w-XNd1b6wU"
      }
    },
    {
      "cell_type": "code",
      "source": [
        "y_hat_insample<- snn  %>% predict(x_train)"
      ],
      "metadata": {
        "id": "YPgi5LNbb20T"
      },
      "execution_count": null,
      "outputs": []
    },
    {
      "cell_type": "markdown",
      "source": [
        "Mean Absolute Error dentro de muestra"
      ],
      "metadata": {
        "id": "YkZ1XJghdAak"
      }
    },
    {
      "cell_type": "code",
      "source": [
        "mean(abs(exp(y_hat_insample)-train$price))"
      ],
      "metadata": {
        "colab": {
          "base_uri": "https://localhost:8080/",
          "height": 34
        },
        "id": "4siR-vE1cJP2",
        "outputId": "98452ca7-27e5-4925-d7f0-2a4bc315fd6f"
      },
      "execution_count": null,
      "outputs": [
        {
          "output_type": "display_data",
          "data": {
            "text/html": [
              "175898121.213269"
            ],
            "text/markdown": "175898121.213269",
            "text/latex": "175898121.213269",
            "text/plain": [
              "[1] 175898121"
            ]
          },
          "metadata": {}
        }
      ]
    },
    {
      "cell_type": "markdown",
      "source": [
        "Predecimos fuera de muestra"
      ],
      "metadata": {
        "id": "wDsalc5hdIlk"
      }
    },
    {
      "cell_type": "code",
      "source": [
        "test<-test %>% mutate(\n",
        "  nbanios=as.numeric(nbanios),\n",
        "  nhabitaciones=as.numeric(nhabitaciones),\n",
        "  piso_apartamento=as.numeric(piso_apartamento),\n",
        "  estrato=as.numeric(estrato),\n",
        "  Periodo=as.numeric(Periodo),\n",
        "  Robos_vivienda=as.numeric(Robos_vivienda),\n",
        "  Robos_personas=as.numeric(Robos_personas),\n",
        "  distancia_estacion_policia=as.numeric(distancia_estacion_policia)\n",
        "  )\n",
        "\n",
        "test <- test %>%\n",
        "  mutate(distancia_hospital = str_replace_all(distancia_hospital, \"\\\\.\", \"\"),\n",
        "         distancia_hospital = str_replace_all(distancia_hospital, \",\", \".\"),\n",
        "         distancia_hospital = as.numeric(distancia_hospital))\n",
        "\n",
        "x_test<- as.matrix(test  %>% select(predictores_net_1))\n",
        "x_test<- scale(x_test)\n",
        "head(x_test)"
      ],
      "metadata": {
        "colab": {
          "base_uri": "https://localhost:8080/",
          "height": 275
        },
        "id": "dNljmvfHdHkF",
        "outputId": "50a5d0de-556b-4c36-ae34-9d88517119ce"
      },
      "execution_count": null,
      "outputs": [
        {
          "output_type": "display_data",
          "data": {
            "text/html": [
              "<table class=\"dataframe\">\n",
              "<caption>A matrix: 6 × 9 of type dbl</caption>\n",
              "<thead>\n",
              "\t<tr><th></th><th scope=col>nbanios</th><th scope=col>nhabitaciones</th><th scope=col>piso_apartamento</th><th scope=col>estrato</th><th scope=col>Periodo</th><th scope=col>Robos_vivienda</th><th scope=col>Robos_personas</th><th scope=col>distancia_estacion_policia</th><th scope=col>distancia_hospital</th></tr>\n",
              "</thead>\n",
              "<tbody>\n",
              "\t<tr><th scope=row>1</th><td> 0.6031259</td><td> 0.6319575</td><td> 0.3396711</td><td> 0.5963502</td><td>-0.03416316</td><td>-0.225038</td><td>-0.09600284</td><td> 0.03783256</td><td>-1.731688</td></tr>\n",
              "\t<tr><th scope=row>2</th><td>-1.4114068</td><td>-0.4112643</td><td> 0.3396711</td><td> 0.5963502</td><td>-0.03416316</td><td>-0.225038</td><td>-0.09600284</td><td>-0.56795257</td><td>-1.731416</td></tr>\n",
              "\t<tr><th scope=row>3</th><td> 0.6031259</td><td> 0.6319575</td><td>-0.8262434</td><td> 0.5963502</td><td>-0.03416316</td><td>-0.225038</td><td>-0.09600284</td><td>-1.19609322</td><td>-1.731119</td></tr>\n",
              "\t<tr><th scope=row>4</th><td>-0.4041404</td><td>-1.4544861</td><td>-0.4376052</td><td>-2.2785403</td><td>-0.03416316</td><td>-0.225038</td><td>-0.09600284</td><td>-0.75787662</td><td>-1.730710</td></tr>\n",
              "\t<tr><th scope=row>5</th><td>-0.4041404</td><td>-1.4544861</td><td>-0.4376052</td><td>-2.2785403</td><td>-0.03416316</td><td>-0.225038</td><td>-0.09600284</td><td>-0.74385847</td><td>-1.730368</td></tr>\n",
              "\t<tr><th scope=row>6</th><td>-0.4041404</td><td> 0.6319575</td><td>-0.8262434</td><td>-2.2785403</td><td>-0.03416316</td><td>-0.225038</td><td>-0.09600284</td><td>-0.80201565</td><td>-1.730192</td></tr>\n",
              "</tbody>\n",
              "</table>\n"
            ],
            "text/markdown": "\nA matrix: 6 × 9 of type dbl\n\n| <!--/--> | nbanios | nhabitaciones | piso_apartamento | estrato | Periodo | Robos_vivienda | Robos_personas | distancia_estacion_policia | distancia_hospital |\n|---|---|---|---|---|---|---|---|---|---|\n| 1 |  0.6031259 |  0.6319575 |  0.3396711 |  0.5963502 | -0.03416316 | -0.225038 | -0.09600284 |  0.03783256 | -1.731688 |\n| 2 | -1.4114068 | -0.4112643 |  0.3396711 |  0.5963502 | -0.03416316 | -0.225038 | -0.09600284 | -0.56795257 | -1.731416 |\n| 3 |  0.6031259 |  0.6319575 | -0.8262434 |  0.5963502 | -0.03416316 | -0.225038 | -0.09600284 | -1.19609322 | -1.731119 |\n| 4 | -0.4041404 | -1.4544861 | -0.4376052 | -2.2785403 | -0.03416316 | -0.225038 | -0.09600284 | -0.75787662 | -1.730710 |\n| 5 | -0.4041404 | -1.4544861 | -0.4376052 | -2.2785403 | -0.03416316 | -0.225038 | -0.09600284 | -0.74385847 | -1.730368 |\n| 6 | -0.4041404 |  0.6319575 | -0.8262434 | -2.2785403 | -0.03416316 | -0.225038 | -0.09600284 | -0.80201565 | -1.730192 |\n\n",
            "text/latex": "A matrix: 6 × 9 of type dbl\n\\begin{tabular}{r|lllllllll}\n  & nbanios & nhabitaciones & piso\\_apartamento & estrato & Periodo & Robos\\_vivienda & Robos\\_personas & distancia\\_estacion\\_policia & distancia\\_hospital\\\\\n\\hline\n\t1 &  0.6031259 &  0.6319575 &  0.3396711 &  0.5963502 & -0.03416316 & -0.225038 & -0.09600284 &  0.03783256 & -1.731688\\\\\n\t2 & -1.4114068 & -0.4112643 &  0.3396711 &  0.5963502 & -0.03416316 & -0.225038 & -0.09600284 & -0.56795257 & -1.731416\\\\\n\t3 &  0.6031259 &  0.6319575 & -0.8262434 &  0.5963502 & -0.03416316 & -0.225038 & -0.09600284 & -1.19609322 & -1.731119\\\\\n\t4 & -0.4041404 & -1.4544861 & -0.4376052 & -2.2785403 & -0.03416316 & -0.225038 & -0.09600284 & -0.75787662 & -1.730710\\\\\n\t5 & -0.4041404 & -1.4544861 & -0.4376052 & -2.2785403 & -0.03416316 & -0.225038 & -0.09600284 & -0.74385847 & -1.730368\\\\\n\t6 & -0.4041404 &  0.6319575 & -0.8262434 & -2.2785403 & -0.03416316 & -0.225038 & -0.09600284 & -0.80201565 & -1.730192\\\\\n\\end{tabular}\n",
            "text/plain": [
              "  nbanios    nhabitaciones piso_apartamento estrato    Periodo    \n",
              "1  0.6031259  0.6319575     0.3396711        0.5963502 -0.03416316\n",
              "2 -1.4114068 -0.4112643     0.3396711        0.5963502 -0.03416316\n",
              "3  0.6031259  0.6319575    -0.8262434        0.5963502 -0.03416316\n",
              "4 -0.4041404 -1.4544861    -0.4376052       -2.2785403 -0.03416316\n",
              "5 -0.4041404 -1.4544861    -0.4376052       -2.2785403 -0.03416316\n",
              "6 -0.4041404  0.6319575    -0.8262434       -2.2785403 -0.03416316\n",
              "  Robos_vivienda Robos_personas distancia_estacion_policia distancia_hospital\n",
              "1 -0.225038      -0.09600284     0.03783256                -1.731688         \n",
              "2 -0.225038      -0.09600284    -0.56795257                -1.731416         \n",
              "3 -0.225038      -0.09600284    -1.19609322                -1.731119         \n",
              "4 -0.225038      -0.09600284    -0.75787662                -1.730710         \n",
              "5 -0.225038      -0.09600284    -0.74385847                -1.730368         \n",
              "6 -0.225038      -0.09600284    -0.80201565                -1.730192         "
            ]
          },
          "metadata": {}
        }
      ]
    },
    {
      "cell_type": "code",
      "source": [
        "y_hat_outsample <- snn  %>% predict(x_test)"
      ],
      "metadata": {
        "id": "QP8tJ8Y4b3GC"
      },
      "execution_count": null,
      "outputs": []
    },
    {
      "cell_type": "code",
      "source": [
        "summary(exp(y_hat_outsample))"
      ],
      "metadata": {
        "colab": {
          "base_uri": "https://localhost:8080/",
          "height": 139
        },
        "id": "ssVIpjK8dtON",
        "outputId": "564ddd01-52bb-48c6-e980-5a723f98bfc6"
      },
      "execution_count": null,
      "outputs": [
        {
          "output_type": "display_data",
          "data": {
            "text/plain": [
              "       V1           \n",
              " Min.   :1.469e+07  \n",
              " 1st Qu.:4.563e+08  \n",
              " Median :6.501e+08  \n",
              " Mean   :7.113e+08  \n",
              " 3rd Qu.:9.933e+08  \n",
              " Max.   :1.427e+09  "
            ]
          },
          "metadata": {}
        }
      ]
    },
    {
      "cell_type": "markdown",
      "source": [
        "Exportamos las predicciones"
      ],
      "metadata": {
        "id": "tTJzWWyqeGOt"
      }
    },
    {
      "cell_type": "code",
      "source": [
        "sub_net_1<-test %>% select(property_id)\n",
        "sub_net_1<-cbind(property_id=sub_net_1,\n",
        "                 price=exp(y_hat_outsample))\n",
        "head(sub_net_1)\n",
        "summary(sub_net_1$price)\n",
        "table(is.na(sub_net_1$price))\n"
      ],
      "metadata": {
        "colab": {
          "base_uri": "https://localhost:8080/",
          "height": 373
        },
        "id": "BtppGEJad6EU",
        "outputId": "2ee7b4ec-51a2-401a-8d11-35e43686d4f8"
      },
      "execution_count": null,
      "outputs": [
        {
          "output_type": "display_data",
          "data": {
            "text/html": [
              "<table class=\"dataframe\">\n",
              "<caption>A data.frame: 6 × 2</caption>\n",
              "<thead>\n",
              "\t<tr><th></th><th scope=col>property_id</th><th scope=col>price</th></tr>\n",
              "\t<tr><th></th><th scope=col>&lt;chr&gt;</th><th scope=col>&lt;dbl&gt;</th></tr>\n",
              "</thead>\n",
              "<tbody>\n",
              "\t<tr><th scope=row>1</th><td>d56159653f5d2abc5ed5acd7</td><td> 996012839</td></tr>\n",
              "\t<tr><th scope=row>2</th><td>735deef3382aa15930482f3e</td><td> 532471784</td></tr>\n",
              "\t<tr><th scope=row>3</th><td>7d3220a91e78f8bc2924d1cd</td><td>1047973814</td></tr>\n",
              "\t<tr><th scope=row>4</th><td>d3054072b2175deec2c1f8dc</td><td> 470795542</td></tr>\n",
              "\t<tr><th scope=row>5</th><td>b7574b06d593fca4eac59815</td><td> 470793746</td></tr>\n",
              "\t<tr><th scope=row>6</th><td>79e822115c5c1a4531366001</td><td> 501802969</td></tr>\n",
              "</tbody>\n",
              "</table>\n"
            ],
            "text/markdown": "\nA data.frame: 6 × 2\n\n| <!--/--> | property_id &lt;chr&gt; | price &lt;dbl&gt; |\n|---|---|---|\n| 1 | d56159653f5d2abc5ed5acd7 |  996012839 |\n| 2 | 735deef3382aa15930482f3e |  532471784 |\n| 3 | 7d3220a91e78f8bc2924d1cd | 1047973814 |\n| 4 | d3054072b2175deec2c1f8dc |  470795542 |\n| 5 | b7574b06d593fca4eac59815 |  470793746 |\n| 6 | 79e822115c5c1a4531366001 |  501802969 |\n\n",
            "text/latex": "A data.frame: 6 × 2\n\\begin{tabular}{r|ll}\n  & property\\_id & price\\\\\n  & <chr> & <dbl>\\\\\n\\hline\n\t1 & d56159653f5d2abc5ed5acd7 &  996012839\\\\\n\t2 & 735deef3382aa15930482f3e &  532471784\\\\\n\t3 & 7d3220a91e78f8bc2924d1cd & 1047973814\\\\\n\t4 & d3054072b2175deec2c1f8dc &  470795542\\\\\n\t5 & b7574b06d593fca4eac59815 &  470793746\\\\\n\t6 & 79e822115c5c1a4531366001 &  501802969\\\\\n\\end{tabular}\n",
            "text/plain": [
              "  property_id              price     \n",
              "1 d56159653f5d2abc5ed5acd7  996012839\n",
              "2 735deef3382aa15930482f3e  532471784\n",
              "3 7d3220a91e78f8bc2924d1cd 1047973814\n",
              "4 d3054072b2175deec2c1f8dc  470795542\n",
              "5 b7574b06d593fca4eac59815  470793746\n",
              "6 79e822115c5c1a4531366001  501802969"
            ]
          },
          "metadata": {}
        },
        {
          "output_type": "display_data",
          "data": {
            "text/plain": [
              "     Min.   1st Qu.    Median      Mean   3rd Qu.      Max. \n",
              "1.469e+07 4.563e+08 6.501e+08 7.113e+08 9.933e+08 1.427e+09 "
            ]
          },
          "metadata": {}
        },
        {
          "output_type": "display_data",
          "data": {
            "text/plain": [
              "\n",
              "FALSE \n",
              "10286 "
            ]
          },
          "metadata": {}
        }
      ]
    },
    {
      "cell_type": "code",
      "source": [
        "write.csv(x = sub_net_1,\"Submit_net_1.csv\",row.names=FALSE)\n"
      ],
      "metadata": {
        "id": "Y1HOb_PxeazL"
      },
      "execution_count": null,
      "outputs": []
    },
    {
      "cell_type": "markdown",
      "source": [
        "Con una función de activación ReLu"
      ],
      "metadata": {
        "id": "q9IgLYAlh0Kp"
      }
    },
    {
      "cell_type": "code",
      "source": [
        "snn2 <- keras_model_sequential() %>%\n",
        "  layer_dense(units = 25, activation = \"relu\",\n",
        "              input_shape = ncol(x_train)) %>%\n",
        "  layer_dense(units = 1)\n",
        "\n",
        "snn2 %>% compile(loss = \"mse\",\n",
        "                  optimizer = 'adam',\n",
        "                  metrics = list(\"mean_absolute_error\") # mean_absolute_error\n",
        ")\n",
        "\n",
        "\n",
        "set.seed(10101)\n",
        "history <- snn %>% fit(\n",
        "  x_train, y_train,\n",
        "  epochs = 30,\n",
        "  validation_split = 0.3\n",
        ")\n"
      ],
      "metadata": {
        "id": "t_7Vaptnh3WO"
      },
      "execution_count": null,
      "outputs": []
    },
    {
      "cell_type": "code",
      "source": [
        "y_hat_insample2<- snn2  %>% predict(x_train)\n",
        "\n",
        "mean(abs(exp(y_hat_insample2)-train$price))"
      ],
      "metadata": {
        "colab": {
          "base_uri": "https://localhost:8080/",
          "height": 34
        },
        "id": "4OZruX_OiHb9",
        "outputId": "8f7bf956-670a-4f37-c79f-7dfd6f72374c"
      },
      "execution_count": null,
      "outputs": [
        {
          "output_type": "display_data",
          "data": {
            "text/html": [
              "654534674.288609"
            ],
            "text/markdown": "654534674.288609",
            "text/latex": "654534674.288609",
            "text/plain": [
              "[1] 654534674"
            ]
          },
          "metadata": {}
        }
      ]
    },
    {
      "cell_type": "markdown",
      "source": [
        "El MAE aumenta dentro de muestra. Se prefiere añadir más capas a la red"
      ],
      "metadata": {
        "id": "1KTByxiZiycb"
      }
    },
    {
      "cell_type": "code",
      "source": [
        "snn2 <- keras_model_sequential() %>%\n",
        "  layer_dense(units = 25, activation = \"sigmoid\",\n",
        "              input_shape = ncol(x_train)) %>%\n",
        "  layer_dense(units = 15, activation = \"sigmoid\",\n",
        "              input_shape = ncol(x_train)) %>%\n",
        "  layer_dense(units = 5, activation = \"sigmoid\",\n",
        "              input_shape = ncol(x_train)) %>%\n",
        "  layer_dense(units = 1)\n",
        "\n",
        "snn2 %>% compile(loss = \"mse\",\n",
        "                  optimizer = 'adam',\n",
        "                  metrics = list(\"mean_absolute_error\") # mean_absolute_error\n",
        ")\n",
        "\n",
        "\n",
        "set.seed(10101)\n",
        "history <- snn %>% fit(\n",
        "  x_train, y_train,\n",
        "  epochs = 30,\n",
        "  validation_split = 0.3\n",
        ")\n"
      ],
      "metadata": {
        "id": "9POFbQYWiNOU"
      },
      "execution_count": null,
      "outputs": []
    },
    {
      "cell_type": "code",
      "source": [
        "y_hat_insample2<- snn2  %>% predict(x_train)\n",
        "\n",
        "mean(abs(exp(y_hat_insample2)-train$price))"
      ],
      "metadata": {
        "colab": {
          "base_uri": "https://localhost:8080/",
          "height": 34
        },
        "id": "Tc5CceuFjRw3",
        "outputId": "1c970439-199d-48c2-fcd5-6d4b38cdfd67"
      },
      "execution_count": null,
      "outputs": [
        {
          "output_type": "display_data",
          "data": {
            "text/html": [
              "654534674.891926"
            ],
            "text/markdown": "654534674.891926",
            "text/latex": "654534674.891926",
            "text/plain": [
              "[1] 654534675"
            ]
          },
          "metadata": {}
        }
      ]
    },
    {
      "cell_type": "markdown",
      "source": [
        "Probamos una combiación de funciones de activación"
      ],
      "metadata": {
        "id": "qkyJHHRKj6H0"
      }
    },
    {
      "cell_type": "code",
      "source": [
        "snn2 <- keras_model_sequential() %>%\n",
        "  layer_dense(units = 25, activation = \"sigmoid\",\n",
        "              input_shape = ncol(x_train)) %>%\n",
        "  layer_dense(units = 15, activation = \"sigmoid\",\n",
        "              input_shape = ncol(x_train)) %>%\n",
        "  layer_dense(units = 5, activation = \"relu\",\n",
        "              input_shape = ncol(x_train)) %>%\n",
        "  layer_dense(units = 1)\n",
        "\n",
        "snn2 %>% compile(loss = \"mse\",\n",
        "                  optimizer = 'adam',\n",
        "                  metrics = list(\"mean_absolute_error\") # mean_absolute_error\n",
        ")\n",
        "\n",
        "\n",
        "set.seed(10101)\n",
        "history <- snn %>% fit(\n",
        "  x_train, y_train,\n",
        "  epochs = 30,\n",
        "  validation_split = 0.3\n",
        ")\n"
      ],
      "metadata": {
        "id": "7N877VYHkCrE"
      },
      "execution_count": null,
      "outputs": []
    },
    {
      "cell_type": "code",
      "source": [
        "y_hat_insample2<- snn2  %>% predict(x_train)\n",
        "\n",
        "mean(abs(exp(y_hat_insample2)-train$price))"
      ],
      "metadata": {
        "colab": {
          "base_uri": "https://localhost:8080/",
          "height": 34
        },
        "id": "7bmYGiHakMOL",
        "outputId": "a5c1424d-0e24-4a8c-c0e4-8ebac87b201f"
      },
      "execution_count": null,
      "outputs": [
        {
          "output_type": "display_data",
          "data": {
            "text/html": [
              "654534673.989394"
            ],
            "text/markdown": "654534673.989394",
            "text/latex": "654534673.989394",
            "text/plain": [
              "[1] 654534674"
            ]
          },
          "metadata": {}
        }
      ]
    },
    {
      "cell_type": "markdown",
      "source": [
        "Dado que no parece haber un cambio de los resultados con el cambio de hiperparámetros se decide probar fuera de muestra."
      ],
      "metadata": {
        "id": "GdeFZkrklGec"
      }
    },
    {
      "cell_type": "code",
      "source": [
        "y_hat_outsample_2 <- snn  %>% predict(x_test)\n",
        "\n",
        "sub_net_2<-test %>% select(property_id)\n",
        "sub_net_2<-cbind(property_id=sub_net_2,\n",
        "                 price=exp(y_hat_outsample_2))\n",
        "head(sub_net_2)\n",
        "summary(sub_net_2$price)\n",
        "table(is.na(sub_net_2$price))"
      ],
      "metadata": {
        "colab": {
          "base_uri": "https://localhost:8080/",
          "height": 373
        },
        "id": "15DwwFvQlQCQ",
        "outputId": "bd4f028b-a0f6-4b5a-e90e-395c1fcf587f"
      },
      "execution_count": null,
      "outputs": [
        {
          "output_type": "display_data",
          "data": {
            "text/html": [
              "<table class=\"dataframe\">\n",
              "<caption>A data.frame: 6 × 2</caption>\n",
              "<thead>\n",
              "\t<tr><th></th><th scope=col>property_id</th><th scope=col>price</th></tr>\n",
              "\t<tr><th></th><th scope=col>&lt;chr&gt;</th><th scope=col>&lt;dbl&gt;</th></tr>\n",
              "</thead>\n",
              "<tbody>\n",
              "\t<tr><th scope=row>1</th><td>d56159653f5d2abc5ed5acd7</td><td> 935885224</td></tr>\n",
              "\t<tr><th scope=row>2</th><td>735deef3382aa15930482f3e</td><td> 600303512</td></tr>\n",
              "\t<tr><th scope=row>3</th><td>7d3220a91e78f8bc2924d1cd</td><td>1009964481</td></tr>\n",
              "\t<tr><th scope=row>4</th><td>d3054072b2175deec2c1f8dc</td><td> 538635371</td></tr>\n",
              "\t<tr><th scope=row>5</th><td>b7574b06d593fca4eac59815</td><td> 538312875</td></tr>\n",
              "\t<tr><th scope=row>6</th><td>79e822115c5c1a4531366001</td><td> 480723474</td></tr>\n",
              "</tbody>\n",
              "</table>\n"
            ],
            "text/markdown": "\nA data.frame: 6 × 2\n\n| <!--/--> | property_id &lt;chr&gt; | price &lt;dbl&gt; |\n|---|---|---|\n| 1 | d56159653f5d2abc5ed5acd7 |  935885224 |\n| 2 | 735deef3382aa15930482f3e |  600303512 |\n| 3 | 7d3220a91e78f8bc2924d1cd | 1009964481 |\n| 4 | d3054072b2175deec2c1f8dc |  538635371 |\n| 5 | b7574b06d593fca4eac59815 |  538312875 |\n| 6 | 79e822115c5c1a4531366001 |  480723474 |\n\n",
            "text/latex": "A data.frame: 6 × 2\n\\begin{tabular}{r|ll}\n  & property\\_id & price\\\\\n  & <chr> & <dbl>\\\\\n\\hline\n\t1 & d56159653f5d2abc5ed5acd7 &  935885224\\\\\n\t2 & 735deef3382aa15930482f3e &  600303512\\\\\n\t3 & 7d3220a91e78f8bc2924d1cd & 1009964481\\\\\n\t4 & d3054072b2175deec2c1f8dc &  538635371\\\\\n\t5 & b7574b06d593fca4eac59815 &  538312875\\\\\n\t6 & 79e822115c5c1a4531366001 &  480723474\\\\\n\\end{tabular}\n",
            "text/plain": [
              "  property_id              price     \n",
              "1 d56159653f5d2abc5ed5acd7  935885224\n",
              "2 735deef3382aa15930482f3e  600303512\n",
              "3 7d3220a91e78f8bc2924d1cd 1009964481\n",
              "4 d3054072b2175deec2c1f8dc  538635371\n",
              "5 b7574b06d593fca4eac59815  538312875\n",
              "6 79e822115c5c1a4531366001  480723474"
            ]
          },
          "metadata": {}
        },
        {
          "output_type": "display_data",
          "data": {
            "text/plain": [
              "     Min.   1st Qu.    Median      Mean   3rd Qu.      Max. \n",
              "2.032e+06 4.555e+08 6.427e+08 7.195e+08 9.735e+08 1.636e+09 "
            ]
          },
          "metadata": {}
        },
        {
          "output_type": "display_data",
          "data": {
            "text/plain": [
              "\n",
              "FALSE \n",
              "10286 "
            ]
          },
          "metadata": {}
        }
      ]
    },
    {
      "cell_type": "code",
      "source": [
        "write.csv(x = sub_net_2,\"Submit_net_2.csv\",row.names=FALSE)"
      ],
      "metadata": {
        "id": "glwl9FZ2lq5n"
      },
      "execution_count": null,
      "outputs": []
    }
  ]
}